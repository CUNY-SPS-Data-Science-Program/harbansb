{
  "nbformat": 4,
  "nbformat_minor": 0,
  "metadata": {
    "colab": {
      "provenance": [],
      "collapsed_sections": []
    },
    "kernelspec": {
      "name": "python3",
      "display_name": "Python 3"
    },
    "language_info": {
      "name": "python"
    }
  },
  "cells": [
    {
      "cell_type": "markdown",
      "source": [
        "# DATA 618 \n",
        "## Week 2\n",
        "## Brad Harbans\n",
        "\n",
        "Please undertake the following tasks this week.\n",
        "\n",
        "1.   Read the attached article by Villalta and Whitwell.\n",
        "2.   Download the U.S. GDP Growth Rate 1961 - 2022 dataset from (https://www.macrotrends.net/countries/USA/united-states/gdp-growth-rate)\n",
        "3.   Download the Federal Funds Effective Rate dataset from (https://fred.stlouisfed.org/series/FEDFUNDS)\n",
        "4.   Determine the degree of correlation (or negative correlation) between these two data sets (hints on Correlation of Two Variables in a Time Series in Python - https://stackoverflow.com/questions/4809577/correlation-of-two-variables-in-a-time-series-in-python) [N.b.: Use of Python for this analysis is recommended but not required]\n",
        "5.   Download the Bureau of Labor Statistics Consumer Price Index Dataset from https://www.usinflationcalculator.com/inflation/consumer-price-index-and-annual-percent-changes-from-1913-to-2008/ and determine the correlation (or negative correlation) between the annual inflation rate and the Feds Fund Rate.\n",
        "6.   Post your conclusions from this analysis regarding Villalt and Whitwell assertions regarding Economically Sensitive Exposures, Interest Rate Sensitive Exposures and the actions of the FED. on the Discussion Board and respond to the postings of others. [This discussion will be graded and has a maximum of 50 earned value points.]\n",
        "\n",
        "\n"
      ],
      "metadata": {
        "id": "MBb7XmsFwnJM"
      }
    },
    {
      "cell_type": "code",
      "source": [
        "import pandas as pd\n",
        "import matplotlib.pyplot as plt"
      ],
      "metadata": {
        "id": "icGu3Nvbx0x1"
      },
      "execution_count": 7,
      "outputs": []
    },
    {
      "cell_type": "markdown",
      "source": [
        "I will start by loading the GDP growth rate CSV file into a pandas dataframe. I will also plot the data."
      ],
      "metadata": {
        "id": "BE2odx8W8D2H"
      }
    },
    {
      "cell_type": "code",
      "source": [
        "gdp = pd.read_csv(\"https://raw.githubusercontent.com/CUNY-SPS-Data-Science-Program/harbansb/main/Week%202/united-states-gdp-growth-rate.csv\",\n",
        "                  skiprows=16,\n",
        "                  parse_dates = ['date'])\n",
        "gdp = gdp.drop(gdp.columns[3],axis=1).set_index('date')\n",
        "gdp.head()"
      ],
      "metadata": {
        "colab": {
          "base_uri": "https://localhost:8080/",
          "height": 238
        },
        "id": "6o0bbxgAyfa4",
        "outputId": "3fb87428-ff07-4077-dd2b-4adddbf8c9fe"
      },
      "execution_count": 42,
      "outputs": [
        {
          "output_type": "execute_result",
          "data": {
            "text/plain": [
              "             GDP Growth (%)   Annual Change\n",
              "date                                       \n",
              "1961-12-31              2.3             NaN\n",
              "1962-12-31              6.1             3.8\n",
              "1963-12-31              4.4            -1.7\n",
              "1964-12-31              5.8             1.4\n",
              "1965-12-31              6.4             0.6"
            ],
            "text/html": [
              "\n",
              "  <div id=\"df-6ac2c4bf-e572-40e7-9609-271b6219f3be\">\n",
              "    <div class=\"colab-df-container\">\n",
              "      <div>\n",
              "<style scoped>\n",
              "    .dataframe tbody tr th:only-of-type {\n",
              "        vertical-align: middle;\n",
              "    }\n",
              "\n",
              "    .dataframe tbody tr th {\n",
              "        vertical-align: top;\n",
              "    }\n",
              "\n",
              "    .dataframe thead th {\n",
              "        text-align: right;\n",
              "    }\n",
              "</style>\n",
              "<table border=\"1\" class=\"dataframe\">\n",
              "  <thead>\n",
              "    <tr style=\"text-align: right;\">\n",
              "      <th></th>\n",
              "      <th>GDP Growth (%)</th>\n",
              "      <th>Annual Change</th>\n",
              "    </tr>\n",
              "    <tr>\n",
              "      <th>date</th>\n",
              "      <th></th>\n",
              "      <th></th>\n",
              "    </tr>\n",
              "  </thead>\n",
              "  <tbody>\n",
              "    <tr>\n",
              "      <th>1961-12-31</th>\n",
              "      <td>2.3</td>\n",
              "      <td>NaN</td>\n",
              "    </tr>\n",
              "    <tr>\n",
              "      <th>1962-12-31</th>\n",
              "      <td>6.1</td>\n",
              "      <td>3.8</td>\n",
              "    </tr>\n",
              "    <tr>\n",
              "      <th>1963-12-31</th>\n",
              "      <td>4.4</td>\n",
              "      <td>-1.7</td>\n",
              "    </tr>\n",
              "    <tr>\n",
              "      <th>1964-12-31</th>\n",
              "      <td>5.8</td>\n",
              "      <td>1.4</td>\n",
              "    </tr>\n",
              "    <tr>\n",
              "      <th>1965-12-31</th>\n",
              "      <td>6.4</td>\n",
              "      <td>0.6</td>\n",
              "    </tr>\n",
              "  </tbody>\n",
              "</table>\n",
              "</div>\n",
              "      <button class=\"colab-df-convert\" onclick=\"convertToInteractive('df-6ac2c4bf-e572-40e7-9609-271b6219f3be')\"\n",
              "              title=\"Convert this dataframe to an interactive table.\"\n",
              "              style=\"display:none;\">\n",
              "        \n",
              "  <svg xmlns=\"http://www.w3.org/2000/svg\" height=\"24px\"viewBox=\"0 0 24 24\"\n",
              "       width=\"24px\">\n",
              "    <path d=\"M0 0h24v24H0V0z\" fill=\"none\"/>\n",
              "    <path d=\"M18.56 5.44l.94 2.06.94-2.06 2.06-.94-2.06-.94-.94-2.06-.94 2.06-2.06.94zm-11 1L8.5 8.5l.94-2.06 2.06-.94-2.06-.94L8.5 2.5l-.94 2.06-2.06.94zm10 10l.94 2.06.94-2.06 2.06-.94-2.06-.94-.94-2.06-.94 2.06-2.06.94z\"/><path d=\"M17.41 7.96l-1.37-1.37c-.4-.4-.92-.59-1.43-.59-.52 0-1.04.2-1.43.59L10.3 9.45l-7.72 7.72c-.78.78-.78 2.05 0 2.83L4 21.41c.39.39.9.59 1.41.59.51 0 1.02-.2 1.41-.59l7.78-7.78 2.81-2.81c.8-.78.8-2.07 0-2.86zM5.41 20L4 18.59l7.72-7.72 1.47 1.35L5.41 20z\"/>\n",
              "  </svg>\n",
              "      </button>\n",
              "      \n",
              "  <style>\n",
              "    .colab-df-container {\n",
              "      display:flex;\n",
              "      flex-wrap:wrap;\n",
              "      gap: 12px;\n",
              "    }\n",
              "\n",
              "    .colab-df-convert {\n",
              "      background-color: #E8F0FE;\n",
              "      border: none;\n",
              "      border-radius: 50%;\n",
              "      cursor: pointer;\n",
              "      display: none;\n",
              "      fill: #1967D2;\n",
              "      height: 32px;\n",
              "      padding: 0 0 0 0;\n",
              "      width: 32px;\n",
              "    }\n",
              "\n",
              "    .colab-df-convert:hover {\n",
              "      background-color: #E2EBFA;\n",
              "      box-shadow: 0px 1px 2px rgba(60, 64, 67, 0.3), 0px 1px 3px 1px rgba(60, 64, 67, 0.15);\n",
              "      fill: #174EA6;\n",
              "    }\n",
              "\n",
              "    [theme=dark] .colab-df-convert {\n",
              "      background-color: #3B4455;\n",
              "      fill: #D2E3FC;\n",
              "    }\n",
              "\n",
              "    [theme=dark] .colab-df-convert:hover {\n",
              "      background-color: #434B5C;\n",
              "      box-shadow: 0px 1px 3px 1px rgba(0, 0, 0, 0.15);\n",
              "      filter: drop-shadow(0px 1px 2px rgba(0, 0, 0, 0.3));\n",
              "      fill: #FFFFFF;\n",
              "    }\n",
              "  </style>\n",
              "\n",
              "      <script>\n",
              "        const buttonEl =\n",
              "          document.querySelector('#df-6ac2c4bf-e572-40e7-9609-271b6219f3be button.colab-df-convert');\n",
              "        buttonEl.style.display =\n",
              "          google.colab.kernel.accessAllowed ? 'block' : 'none';\n",
              "\n",
              "        async function convertToInteractive(key) {\n",
              "          const element = document.querySelector('#df-6ac2c4bf-e572-40e7-9609-271b6219f3be');\n",
              "          const dataTable =\n",
              "            await google.colab.kernel.invokeFunction('convertToInteractive',\n",
              "                                                     [key], {});\n",
              "          if (!dataTable) return;\n",
              "\n",
              "          const docLinkHtml = 'Like what you see? Visit the ' +\n",
              "            '<a target=\"_blank\" href=https://colab.research.google.com/notebooks/data_table.ipynb>data table notebook</a>'\n",
              "            + ' to learn more about interactive tables.';\n",
              "          element.innerHTML = '';\n",
              "          dataTable['output_type'] = 'display_data';\n",
              "          await google.colab.output.renderOutput(dataTable, element);\n",
              "          const docLink = document.createElement('div');\n",
              "          docLink.innerHTML = docLinkHtml;\n",
              "          element.appendChild(docLink);\n",
              "        }\n",
              "      </script>\n",
              "    </div>\n",
              "  </div>\n",
              "  "
            ]
          },
          "metadata": {},
          "execution_count": 42
        }
      ]
    },
    {
      "cell_type": "code",
      "source": [
        "gdp.plot()"
      ],
      "metadata": {
        "colab": {
          "base_uri": "https://localhost:8080/",
          "height": 297
        },
        "id": "3v60USL21mdd",
        "outputId": "e7278707-66f7-4715-be14-89c942867277"
      },
      "execution_count": 43,
      "outputs": [
        {
          "output_type": "execute_result",
          "data": {
            "text/plain": [
              "<matplotlib.axes._subplots.AxesSubplot at 0x7fa9e682d990>"
            ]
          },
          "metadata": {},
          "execution_count": 43
        },
        {
          "output_type": "display_data",
          "data": {
            "text/plain": [
              "<Figure size 432x288 with 1 Axes>"
            ],
            "image/png": "[encoded data removed]"
          },
          "metadata": {
            "needs_background": "light"
          }
        }
      ]
    },
    {
      "cell_type": "code",
      "source": [
        "fedfunds = pd.read_csv(\"https://raw.githubusercontent.com/CUNY-SPS-Data-Science-Program/harbansb/main/Week%202/united-states-gdp-growth-rate.csv\",\n",
        "                       skiprows=16,\n",
        "                       parse_dates = ['date'])"
      ],
      "metadata": {
        "id": "72kraXK56ClO"
      },
      "execution_count": null,
      "outputs": []
    }
  ]
}